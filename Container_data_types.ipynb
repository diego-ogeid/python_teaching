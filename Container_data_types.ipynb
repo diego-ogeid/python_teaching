{
 "cells": [
  {
   "cell_type": "markdown",
   "metadata": {},
   "source": [
    "# Container data types"
   ]
  },
  {
   "cell_type": "markdown",
   "metadata": {},
   "source": [
    "We often need not just one piece of information, but many related entries. This could be a vector, for example. If we were to save a vector as a single variable, it would look like this:"
   ]
  },
  {
   "cell_type": "code",
   "execution_count": null,
   "metadata": {},
   "outputs": [],
   "source": [
    "x = 1\n",
    "y = 2\n",
    "z = 3"
   ]
  },
  {
   "cell_type": "markdown",
   "metadata": {},
   "source": [
    "This would mean that you would have to manage several entries every time this vector is used, which would make the code far too confusing. Just imagine if you wanted to store not just the coordinates of one particle, but many particles: then individual variables would have to contain a sequential number, for example.\n",
    "\n",
    "To avoid this, there are container data types that summarise several individual values. The individual data types have different properties, making them differently suitable for certain applications. It is therefore important to know the differences between them.\n",
    "\n",
    "Container data types are often summarised as iterables (iterable containers), as the individual elements are regularly accessed by means of a loop."
   ]
  },
  {
   "cell_type": "markdown",
   "metadata": {},
   "source": [
    "# List"
   ]
  },
  {
   "cell_type": "markdown",
   "metadata": {},
   "source": [
    "The most common container data type is the list. Here, several entries are summarised in a fixed order:"
   ]
  },
  {
   "cell_type": "code",
   "execution_count": 1,
   "metadata": {},
   "outputs": [],
   "source": [
    "coordinate = [1,2,3]"
   ]
  },
  {
   "cell_type": "markdown",
   "metadata": {},
   "source": [
    "The entries can be of any data type:"
   ]
  },
  {
   "cell_type": "code",
   "execution_count": 2,
   "metadata": {},
   "outputs": [],
   "source": [
    "mixed = [1, \"two\", 3.0]"
   ]
  },
  {
   "cell_type": "markdown",
   "metadata": {},
   "source": [
    "Of course, this is not very advisable, but it shows the flexibility of a list. Mathematically, the list acts like a vector and can be generalised to a tensor, as a list can in turn contain a list:"
   ]
  },
  {
   "cell_type": "code",
   "execution_count": 3,
   "metadata": {},
   "outputs": [],
   "source": [
    "matrix = [[1,2,3], [4,5,6], [7,8,9]]"
   ]
  },
  {
   "cell_type": "markdown",
   "metadata": {},
   "source": [
    " Individual entries can be addressed with an index:"
   ]
  },
  {
   "cell_type": "code",
   "execution_count": 4,
   "metadata": {},
   "outputs": [
    {
     "data": {
      "text/plain": [
       "'H'"
      ]
     },
     "execution_count": 4,
     "metadata": {},
     "output_type": "execute_result"
    }
   ],
   "source": [
    "elements = [\"H\", \"He\", \"Li\"]\n",
    "elements[0]"
   ]
  },
  {
   "cell_type": "markdown",
   "metadata": {},
   "source": [
    "It should be noted here that indexing in Python always counts from 0. The last element can also be addressed with a negative index:"
   ]
  },
  {
   "cell_type": "code",
   "execution_count": 5,
   "metadata": {},
   "outputs": [
    {
     "data": {
      "text/plain": [
       "'Li'"
      ]
     },
     "execution_count": 5,
     "metadata": {},
     "output_type": "execute_result"
    }
   ],
   "source": [
    "elements[-1]"
   ]
  },
  {
   "cell_type": "markdown",
   "metadata": {},
   "source": [
    "Parts of a list can be addressed with a slice:"
   ]
  },
  {
   "cell_type": "code",
   "execution_count": 6,
   "metadata": {},
   "outputs": [
    {
     "data": {
      "text/plain": [
       "['He', 'Li', 'Be']"
      ]
     },
     "execution_count": 6,
     "metadata": {},
     "output_type": "execute_result"
    }
   ],
   "source": [
    "elements = [\"H\", \"He\", \"Li\", \"Be\", \"B\", \"C\"]\n",
    "elements[1:4]"
   ]
  },
  {
   "cell_type": "markdown",
   "metadata": {},
   "source": [
    "Lists can be modified, e.g. by first creating an empty list with [] or list() and then adding entries using .append():"
   ]
  },
  {
   "cell_type": "code",
   "execution_count": 15,
   "metadata": {},
   "outputs": [
    {
     "name": "stdout",
     "output_type": "stream",
     "text": [
      "['H', 'He', 'Li']\n"
     ]
    }
   ],
   "source": [
    "elements = [\"H\", \"He\", \"Li\"]\n",
    "print(elements)"
   ]
  },
  {
   "cell_type": "code",
   "execution_count": 16,
   "metadata": {},
   "outputs": [
    {
     "name": "stdout",
     "output_type": "stream",
     "text": [
      "['H', 'Helium', 'Li']\n"
     ]
    }
   ],
   "source": [
    "elements[1] = \"Helium\"\n",
    "print(elements)"
   ]
  },
  {
   "cell_type": "code",
   "execution_count": 17,
   "metadata": {},
   "outputs": [
    {
     "name": "stdout",
     "output_type": "stream",
     "text": [
      "['Helium', 'Li']\n"
     ]
    }
   ],
   "source": [
    "del elements[0]\n",
    "print(elements)"
   ]
  },
  {
   "cell_type": "markdown",
   "metadata": {},
   "source": [
    "If you want to know the position of an entry, you can use .index():"
   ]
  },
  {
   "cell_type": "code",
   "execution_count": 19,
   "metadata": {},
   "outputs": [
    {
     "data": {
      "text/plain": [
       "1"
      ]
     },
     "execution_count": 19,
     "metadata": {},
     "output_type": "execute_result"
    }
   ],
   "source": [
    "elements = [\"H\", \"He\", \"Li\"]\n",
    "elements.index(\"He\")"
   ]
  },
  {
   "cell_type": "markdown",
   "metadata": {},
   "source": [
    "The length of a list can be determined with len():"
   ]
  },
  {
   "cell_type": "code",
   "execution_count": 20,
   "metadata": {},
   "outputs": [
    {
     "data": {
      "text/plain": [
       "3"
      ]
     },
     "execution_count": 20,
     "metadata": {},
     "output_type": "execute_result"
    }
   ],
   "source": [
    "len(elements)"
   ]
  },
  {
   "cell_type": "markdown",
   "metadata": {},
   "source": [
    "The list can also be sorted, but only if the comparison between the data types is permitted:"
   ]
  },
  {
   "cell_type": "code",
   "execution_count": 22,
   "metadata": {},
   "outputs": [
    {
     "name": "stdout",
     "output_type": "stream",
     "text": [
      "['one', 'three', 'two']\n"
     ]
    }
   ],
   "source": [
    "elements = [\"one\", \"two\", \"three\"]\n",
    "elements.sort()\n",
    "print(elements)"
   ]
  },
  {
   "cell_type": "code",
   "execution_count": 24,
   "metadata": {},
   "outputs": [
    {
     "ename": "TypeError",
     "evalue": "'<' not supported between instances of 'int' and 'str'",
     "output_type": "error",
     "traceback": [
      "\u001b[1;31m---------------------------------------------------------------------------\u001b[0m",
      "\u001b[1;31mTypeError\u001b[0m                                 Traceback (most recent call last)",
      "Cell \u001b[1;32mIn[24], line 2\u001b[0m\n\u001b[0;32m      1\u001b[0m elements \u001b[38;5;241m=\u001b[39m [\u001b[38;5;124m\"\u001b[39m\u001b[38;5;124mone\u001b[39m\u001b[38;5;124m\"\u001b[39m, \u001b[38;5;241m2\u001b[39m, \u001b[38;5;241m3\u001b[39m]\n\u001b[1;32m----> 2\u001b[0m \u001b[43melements\u001b[49m\u001b[38;5;241;43m.\u001b[39;49m\u001b[43msort\u001b[49m\u001b[43m(\u001b[49m\u001b[43m)\u001b[49m\n",
      "\u001b[1;31mTypeError\u001b[0m: '<' not supported between instances of 'int' and 'str'"
     ]
    }
   ],
   "source": [
    "elements = [\"one\", 2, 3]\n",
    "elements.sort()"
   ]
  },
  {
   "cell_type": "markdown",
   "metadata": {},
   "source": [
    "Whether a value is included can be checked with in:"
   ]
  },
  {
   "cell_type": "code",
   "execution_count": 25,
   "metadata": {},
   "outputs": [
    {
     "data": {
      "text/plain": [
       "True"
      ]
     },
     "execution_count": 25,
     "metadata": {},
     "output_type": "execute_result"
    }
   ],
   "source": [
    "elements = [\"H\", \"He\", \"Li\"]\n",
    "\"He\" in elements"
   ]
  },
  {
   "cell_type": "markdown",
   "metadata": {},
   "source": [
    "Mathematical operations such as + and * can also be applied to lists:"
   ]
  },
  {
   "cell_type": "code",
   "execution_count": 28,
   "metadata": {},
   "outputs": [
    {
     "name": "stdout",
     "output_type": "stream",
     "text": [
      "['C', 'C', 'C', 'C', 'C']\n"
     ]
    }
   ],
   "source": [
    "five_carbons = [\"C\"]*5\n",
    "print(five_carbons)"
   ]
  },
  {
   "cell_type": "code",
   "execution_count": 29,
   "metadata": {},
   "outputs": [
    {
     "name": "stdout",
     "output_type": "stream",
     "text": [
      "[1, 2, 3, 4, 5, 6]\n"
     ]
    }
   ],
   "source": [
    "both_lists = [1,2,3] + [4,5,6]\n",
    "print(both_lists)"
   ]
  },
  {
   "cell_type": "markdown",
   "metadata": {},
   "source": [
    "# Tuples"
   ]
  },
  {
   "cell_type": "markdown",
   "metadata": {},
   "source": [
    "Conceptually, tuples are similar to lists, but with one important difference: tuples are unchangeable. Once they have been created, they can no longer be changed, only a new tuple can be created. The notation is very similar to lists, but round brackets are used instead of square brackets:"
   ]
  },
  {
   "cell_type": "code",
   "execution_count": 30,
   "metadata": {},
   "outputs": [],
   "source": [
    "elements = (\"H\", \"He\", \"Li\")"
   ]
  },
  {
   "cell_type": "markdown",
   "metadata": {},
   "source": [
    "The special feature here is that a list with only one element must be labelled with an additional comma, because otherwise it is not possible to distinguish it from an expression in brackets:"
   ]
  },
  {
   "cell_type": "code",
   "execution_count": 31,
   "metadata": {},
   "outputs": [],
   "source": [
    "elements = (\"H\",)"
   ]
  },
  {
   "cell_type": "markdown",
   "metadata": {},
   "source": [
    "An empty tuple, on the other hand, is unambiguous (), as there is no expression in the brackets, so there is no confusion.\n",
    "\n",
    "With the exception of methods that change the contents of a list, all methods and operations can also be applied to tuples:"
   ]
  },
  {
   "cell_type": "code",
   "execution_count": 32,
   "metadata": {},
   "outputs": [
    {
     "data": {
      "text/plain": [
       "'Li'"
      ]
     },
     "execution_count": 32,
     "metadata": {},
     "output_type": "execute_result"
    }
   ],
   "source": [
    "elements = (\"H\", \"He\", \"Li\")\n",
    "elements[-1]"
   ]
  },
  {
   "cell_type": "code",
   "execution_count": 33,
   "metadata": {},
   "outputs": [
    {
     "data": {
      "text/plain": [
       "3"
      ]
     },
     "execution_count": 33,
     "metadata": {},
     "output_type": "execute_result"
    }
   ],
   "source": [
    "len(elements)"
   ]
  },
  {
   "cell_type": "markdown",
   "metadata": {},
   "source": [
    "Some operations create a new tuple, e.g. merging tuples:"
   ]
  },
  {
   "cell_type": "code",
   "execution_count": 35,
   "metadata": {},
   "outputs": [
    {
     "name": "stdout",
     "output_type": "stream",
     "text": [
      "('H', 'He', 'Li')\n"
     ]
    }
   ],
   "source": [
    "elements = (\"H\", \"He\", \"Li\")\n",
    "elements + (\"Be\", \"B\", \"C\")\n",
    "print(elements)"
   ]
  },
  {
   "cell_type": "code",
   "execution_count": 8,
   "metadata": {},
   "outputs": [
    {
     "name": "stdout",
     "output_type": "stream",
     "text": [
      "('H', 'He', 'Li', 'Be', 'B', 'C')\n"
     ]
    }
   ],
   "source": [
    "elements = (\"H\", \"He\", \"Li\")\n",
    "elements = elements + (\"Be\", \"B\", \"C\")\n",
    "print(elements)"
   ]
  },
  {
   "cell_type": "markdown",
   "metadata": {},
   "source": [
    "# Dictionaries"
   ]
  },
  {
   "cell_type": "markdown",
   "metadata": {},
   "source": [
    "If you want to create a pairwise connection between two data types, a dictionary {} or dict() is a good choice. Here, a key is linked to a value and can be read out via an index:"
   ]
  },
  {
   "cell_type": "code",
   "execution_count": 37,
   "metadata": {},
   "outputs": [
    {
     "data": {
      "text/plain": [
       "'Hydrogen'"
      ]
     },
     "execution_count": 37,
     "metadata": {},
     "output_type": "execute_result"
    }
   ],
   "source": [
    "elemente = {}\n",
    "elemente[\"H\"] = \"Hydrogen\"\n",
    "elemente[\"He\"] = \"Helium\"\n",
    "elemente[\"Li\"] = \"Lithium\""
   ]
  },
  {
   "cell_type": "code",
   "execution_count": 38,
   "metadata": {},
   "outputs": [
    {
     "name": "stdout",
     "output_type": "stream",
     "text": [
      "Hydrogen\n"
     ]
    }
   ],
   "source": [
    "print(elemente[\"H\"])"
   ]
  },
  {
   "cell_type": "markdown",
   "metadata": {},
   "source": [
    "The keys can be any data types as long as they are unchangeable. The values can be any data type."
   ]
  },
  {
   "cell_type": "code",
   "execution_count": 39,
   "metadata": {},
   "outputs": [
    {
     "ename": "KeyError",
     "evalue": "(1, 2, 3)",
     "output_type": "error",
     "traceback": [
      "\u001b[1;31m---------------------------------------------------------------------------\u001b[0m",
      "\u001b[1;31mKeyError\u001b[0m                                  Traceback (most recent call last)",
      "Cell \u001b[1;32mIn[39], line 2\u001b[0m\n\u001b[0;32m      1\u001b[0m a \u001b[38;5;241m=\u001b[39m \u001b[38;5;28mdict\u001b[39m()\n\u001b[1;32m----> 2\u001b[0m \u001b[43ma\u001b[49m\u001b[43m[\u001b[49m\u001b[43m(\u001b[49m\u001b[38;5;241;43m1\u001b[39;49m\u001b[43m,\u001b[49m\u001b[38;5;241;43m2\u001b[39;49m\u001b[43m,\u001b[49m\u001b[38;5;241;43m3\u001b[39;49m\u001b[43m)\u001b[49m\u001b[43m]\u001b[49m\n\u001b[0;32m      3\u001b[0m a[[\u001b[38;5;241m1\u001b[39m,\u001b[38;5;241m2\u001b[39m,\u001b[38;5;241m3\u001b[39m]]\n",
      "\u001b[1;31mKeyError\u001b[0m: (1, 2, 3)"
     ]
    }
   ],
   "source": [
    "a = dict()\n",
    "a[(1,2,3)]\n",
    "a[[1,2,3]] #Type Error"
   ]
  },
  {
   "cell_type": "markdown",
   "metadata": {},
   "source": [
    "There is a compact notation for initialisation: "
   ]
  },
  {
   "cell_type": "code",
   "execution_count": 9,
   "metadata": {},
   "outputs": [],
   "source": [
    "elemente = {\"H\": \"Hydrogen\",\n",
    "            \"He\": \"Helium\",\n",
    "            \"Li\": \"Lithium\"}"
   ]
  },
  {
   "cell_type": "markdown",
   "metadata": {},
   "source": [
    "If a value is reassigned, the old value is overwritten:"
   ]
  },
  {
   "cell_type": "code",
   "execution_count": 11,
   "metadata": {},
   "outputs": [
    {
     "name": "stdout",
     "output_type": "stream",
     "text": [
      "{'H': 'Hydrogen_2', 'He': 'Helium', 'Li': 'Lithium'}\n"
     ]
    }
   ],
   "source": [
    "elemente = {\"H\": \"Hydrogen\",\n",
    "            \"He\": \"Helium\",\n",
    "            \"Li\": \"Lithium\"}\n",
    "elemente[\"H\"] = \"Hydrogen_2\"\n",
    "print(elemente)"
   ]
  },
  {
   "cell_type": "markdown",
   "metadata": {},
   "source": [
    "Entries can also be easily removed again:"
   ]
  },
  {
   "cell_type": "code",
   "execution_count": 12,
   "metadata": {},
   "outputs": [
    {
     "name": "stdout",
     "output_type": "stream",
     "text": [
      "{'He': 'Helium', 'Li': 'Lithium'}\n"
     ]
    }
   ],
   "source": [
    "elemente = {\"H\": \"Hydrogen\",\n",
    "            \"He\": \"Helium\",\n",
    "            \"Li\": \"Lithium\"}\n",
    "del elemente[\"H\"]\n",
    "print(elemente)"
   ]
  },
  {
   "cell_type": "markdown",
   "metadata": {},
   "source": [
    "The keys and values can also be read out as a kind of list:"
   ]
  },
  {
   "cell_type": "code",
   "execution_count": 13,
   "metadata": {},
   "outputs": [
    {
     "data": {
      "text/plain": [
       "dict_keys(['H', 'He', 'Li'])"
      ]
     },
     "execution_count": 13,
     "metadata": {},
     "output_type": "execute_result"
    }
   ],
   "source": [
    "elemente = {\"H\":\"Hydrogen\",\n",
    "            \"He\": \"Helium\",\n",
    "            \"Li\":\"Lithium\"}\n",
    "elemente.keys()"
   ]
  },
  {
   "cell_type": "code",
   "execution_count": 14,
   "metadata": {},
   "outputs": [
    {
     "data": {
      "text/plain": [
       "dict_values(['Hydrogen', 'Helium', 'Lithium'])"
      ]
     },
     "execution_count": 14,
     "metadata": {},
     "output_type": "execute_result"
    }
   ],
   "source": [
    "elemente.values()"
   ]
  },
  {
   "cell_type": "markdown",
   "metadata": {},
   "source": [
    "It should be noted that there is no guarantee regarding the order, except that the keys and values are output in the same order if the dictionary has not been changed."
   ]
  },
  {
   "cell_type": "markdown",
   "metadata": {},
   "source": [
    "# Sets"
   ]
  },
  {
   "cell_type": "markdown",
   "metadata": {},
   "source": [
    "A set() is a collection of unchangeable and unique elements - just as in the mathematical sense. In a sense, it is a list that does not allow duplicates. It can be created from an iterable container, e.g. a list or a tuple. Entries in a set must in turn be immutable."
   ]
  },
  {
   "cell_type": "code",
   "execution_count": 15,
   "metadata": {},
   "outputs": [
    {
     "data": {
      "text/plain": [
       "{0, 1}"
      ]
     },
     "execution_count": 15,
     "metadata": {},
     "output_type": "execute_result"
    }
   ],
   "source": [
    "set ([1,1,0])"
   ]
  },
  {
   "cell_type": "markdown",
   "metadata": {},
   "source": [
    "A non-empty set can also be created directly with curly brackets {...}. An empty set cannot be created in this way because this syntax is already reserved for the dictionary. Here, set() must be used."
   ]
  },
  {
   "cell_type": "code",
   "execution_count": 16,
   "metadata": {},
   "outputs": [
    {
     "data": {
      "text/plain": [
       "{1, 2, 3}"
      ]
     },
     "execution_count": 16,
     "metadata": {},
     "output_type": "execute_result"
    }
   ],
   "source": [
    "{1,2,3}"
   ]
  },
  {
   "cell_type": "markdown",
   "metadata": {},
   "source": [
    "There are a number of operations for sets:"
   ]
  },
  {
   "cell_type": "markdown",
   "metadata": {},
   "source": [
    "### Set Operations in Python\n",
    "\n",
    "| Operation    | Description                             | Example                      | Result |\n",
    "|--------------|-----------------------------------------|------------------------------|--------|\n",
    "| `len(s)`     | Number of elements                      | `len({1, 2, 3})`              | 3      |\n",
    "| `x in s`     | Checks whether `x` is contained in `s`  | `2 in {1, 2, 3}`              | True   |\n",
    "| `x not in s` | Checks whether `x` is not contained in `s`| `2 not in {1, 2, 3}`          | False  |\n",
    "| `s | t`      | Union of `s` and `t`                   | `{1, 2} | {2, 3}`             | `{1, 2, 3}` |\n",
    "| `s & t`      | Intersection of `s` and `t`            | `{1, 2} & {2, 3}`             | `{2}`  |\n",
    "| `s - t`      | Difference set of `s` and `t`          | `{1, 2} - {2, 3}`             | `{1}`  |\n",
    "| `s ^ t`      | Symmetric difference set of `s` and `t` | `{1, 2} ^ {2, 3}`             | `{1, 3}` |\n",
    "| `s <= t`     | Checks whether `s` is a subset of `t`   | `{1, 2} <= {1, 2, 3}`         | True   |\n",
    "| `s >= t`     | Checks whether `s` is a superset of `t` | `{1, 2, 3} >= {1, 2}`         | True   |"
   ]
  },
  {
   "cell_type": "markdown",
   "metadata": {},
   "source": [
    "If you find the operator notation confusing, you can also use the method notation:"
   ]
  },
  {
   "cell_type": "markdown",
   "metadata": {},
   "source": [
    "| Operation                     | Description                                 | Example                            | Result     |\n",
    "|--------------------------------|---------------------------------------------|------------------------------------|------------|\n",
    "| `s.issubset(t)`                | Checks whether `s` is a subset of `t`       | `{1, 2}.issubset({1, 2, 3})`       | True       |\n",
    "| `s.issuperset(t)`              | Checks whether `s` is a superset of `t`     | `{1, 2, 3}.issuperset({1, 2})`     | True       |\n",
    "| `s.union(t)`                   | Union of `s` and `t`                        | `{1, 2}.union({2, 3})`             | `{1, 2, 3}` |\n",
    "| `s.intersection(t)`            | Intersection of `s` and `t`                 | `{1, 2}.intersection({2, 3})`      | `{2}`      |\n",
    "| `s.difference(t)`              | Difference set of `s` and `t`               | `{1, 2}.difference({2, 3})`        | `{1}`      |\n",
    "| `s.symmetric_difference(t)`    | Symmetric difference set of `s` and `t`     | `{1, 2}.symmetric_difference({2, 3})` | `{1, 3}`  |\n"
   ]
  }
 ],
 "metadata": {
  "kernelspec": {
   "display_name": "Python 3",
   "language": "python",
   "name": "python3"
  },
  "language_info": {
   "codemirror_mode": {
    "name": "ipython",
    "version": 3
   },
   "file_extension": ".py",
   "mimetype": "text/x-python",
   "name": "python",
   "nbconvert_exporter": "python",
   "pygments_lexer": "ipython3",
   "version": "3.12.4"
  }
 },
 "nbformat": 4,
 "nbformat_minor": 2
}
