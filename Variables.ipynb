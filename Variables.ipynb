{
 "cells": [
  {
   "cell_type": "markdown",
   "metadata": {},
   "source": [
    "# Variables"
   ]
  },
  {
   "cell_type": "markdown",
   "metadata": {},
   "source": [
    "As in maths, variables can be defined. In Python, this is done by assigning them using a simple =."
   ]
  },
  {
   "cell_type": "code",
   "execution_count": null,
   "metadata": {},
   "outputs": [],
   "source": [
    "i = 11"
   ]
  },
  {
   "cell_type": "markdown",
   "metadata": {},
   "source": [
    "A data type cannot be specified explicitly: the variable inherits the data type of the value that was assigned to it. This data type does not have to remain the same permanently. Each assignment sets the content again:"
   ]
  },
  {
   "cell_type": "code",
   "execution_count": 1,
   "metadata": {},
   "outputs": [],
   "source": [
    "i = 11\n",
    "i = \"Hello\""
   ]
  },
  {
   "cell_type": "markdown",
   "metadata": {},
   "source": [
    "Variable names are largely free. They may also contain unicode characters (such as umlauts or other fonts) and numbers, but not operators, spaces, line breaks or tabs. Numbers may not be used as the first character. Upper and lower case is respected. The following is advisable:\n",
    "\n",
    "    Names should be easy to understand: alpha is harder to read and understand than incident_angle.\n",
    "    Names should be in English: energia_cinetica might still be understandable to others, but mozgási_energia would no longer be.\n",
    "    Names should match the content: speed is a scalar, velocity a vector.\n",
    "    Special characters, and Unicode characters should be avoided.\n",
    "\n",
    "The following conventions are common:\n",
    "\n",
    "    Consecutive indices in the order of concurrent use are i, j, k, ...\n",
    "    Variable names are written in lower case and spaces are replaced by underscores: incident_angle.\n",
    "    A temporary variable that is only required in this line is _\n",
    "    Variables beginning with an underscore are not intended for use by third parties - particularly relevant when using external libraries where future versions may rename such variables.\n",
    "    Variables beginning with two underscores emphasize the intention that they should not be used by others, even more strongly..\n",
    "    Variables that end with an underscore denote the results of a procedure. This is mainly used in the field of machine learning to clearly characterise output parameters.\n",
    "\n",
    "Keywords (i.e., commands in Python such as 'if' or 'for') are not permitted as variable names."
   ]
  },
  {
   "cell_type": "markdown",
   "metadata": {},
   "source": [
    "#### Assignment operators"
   ]
  },
  {
   "cell_type": "markdown",
   "metadata": {},
   "source": [
    "A variable should often be used explicitly in the calculation of its new value. As this is so common, there is a shorthand notation for this:"
   ]
  },
  {
   "cell_type": "code",
   "execution_count": 3,
   "metadata": {},
   "outputs": [
    {
     "name": "stdout",
     "output_type": "stream",
     "text": [
      "11\n"
     ]
    }
   ],
   "source": [
    "i = 11\n",
    "print(i)"
   ]
  },
  {
   "cell_type": "code",
   "execution_count": 4,
   "metadata": {},
   "outputs": [
    {
     "name": "stdout",
     "output_type": "stream",
     "text": [
      "12\n"
     ]
    }
   ],
   "source": [
    "i = i +1\n",
    "print(i)"
   ]
  },
  {
   "cell_type": "code",
   "execution_count": 5,
   "metadata": {},
   "outputs": [
    {
     "name": "stdout",
     "output_type": "stream",
     "text": [
      "14\n"
     ]
    }
   ],
   "source": [
    "i += 2\n",
    "print(i)"
   ]
  },
  {
   "cell_type": "code",
   "execution_count": 6,
   "metadata": {},
   "outputs": [
    {
     "name": "stdout",
     "output_type": "stream",
     "text": [
      "7.0\n"
     ]
    }
   ],
   "source": [
    "i /= 2\n",
    "print(i)"
   ]
  },
  {
   "cell_type": "code",
   "execution_count": 7,
   "metadata": {},
   "outputs": [
    {
     "name": "stdout",
     "output_type": "stream",
     "text": [
      "14.0\n"
     ]
    }
   ],
   "source": [
    "i *= 2\n",
    "print(i)"
   ]
  },
  {
   "cell_type": "code",
   "execution_count": 8,
   "metadata": {},
   "outputs": [
    {
     "name": "stdout",
     "output_type": "stream",
     "text": [
      "12.0\n"
     ]
    }
   ],
   "source": [
    "i -= 2\n",
    "print(i)"
   ]
  },
  {
   "cell_type": "code",
   "execution_count": 9,
   "metadata": {},
   "outputs": [
    {
     "name": "stdout",
     "output_type": "stream",
     "text": [
      "6.0\n"
     ]
    }
   ],
   "source": [
    "i //= 2\n",
    "print(i)"
   ]
  },
  {
   "cell_type": "markdown",
   "metadata": {},
   "source": [
    "# Output of variables"
   ]
  },
  {
   "cell_type": "markdown",
   "metadata": {},
   "source": [
    "The usual way of outputting the contents of a variable is the print-function, which outputs a string on the command line or in Jupyter notebooks. The use is very simple:"
   ]
  },
  {
   "cell_type": "code",
   "execution_count": 11,
   "metadata": {},
   "outputs": [
    {
     "name": "stdout",
     "output_type": "stream",
     "text": [
      "11\n"
     ]
    }
   ],
   "source": [
    "count = 11\n",
    "print(count)"
   ]
  },
  {
   "cell_type": "markdown",
   "metadata": {},
   "source": [
    "With decimal numbers, the significant digits are output without terminating zeros:"
   ]
  },
  {
   "cell_type": "code",
   "execution_count": 13,
   "metadata": {},
   "outputs": [
    {
     "name": "stdout",
     "output_type": "stream",
     "text": [
      "0.1111111111111111\n"
     ]
    }
   ],
   "source": [
    "share = 1/9\n",
    "print(share)"
   ]
  },
  {
   "cell_type": "code",
   "execution_count": 14,
   "metadata": {},
   "outputs": [
    {
     "name": "stdout",
     "output_type": "stream",
     "text": [
      "0.1\n"
     ]
    }
   ],
   "source": [
    "share = 0.1\n",
    "print(share)"
   ]
  },
  {
   "cell_type": "markdown",
   "metadata": {},
   "source": [
    "Exceptions are very large or very small numbers where scientific notation is used:"
   ]
  },
  {
   "cell_type": "code",
   "execution_count": 15,
   "metadata": {},
   "outputs": [
    {
     "name": "stdout",
     "output_type": "stream",
     "text": [
      "1e+100\n"
     ]
    }
   ],
   "source": [
    "print(10.**100)"
   ]
  },
  {
   "cell_type": "markdown",
   "metadata": {},
   "source": [
    "With integers, the whole number is always specified, as this is stored with any number of significant digits:"
   ]
  },
  {
   "cell_type": "code",
   "execution_count": 16,
   "metadata": {},
   "outputs": [
    {
     "name": "stdout",
     "output_type": "stream",
     "text": [
      "10000000000000000000000000000000000000000000000000000000000000000000000000000000000000000000000000000\n"
     ]
    }
   ],
   "source": [
    "print(10**100)"
   ]
  },
  {
   "cell_type": "markdown",
   "metadata": {},
   "source": [
    "Character strings and truth expressions are unsurprisingly reproduced in full:"
   ]
  },
  {
   "cell_type": "code",
   "execution_count": 17,
   "metadata": {},
   "outputs": [
    {
     "name": "stdout",
     "output_type": "stream",
     "text": [
      "True\n"
     ]
    }
   ],
   "source": [
    "print(True)"
   ]
  },
  {
   "cell_type": "code",
   "execution_count": 18,
   "metadata": {},
   "outputs": [
    {
     "name": "stdout",
     "output_type": "stream",
     "text": [
      "Hallo\n"
     ]
    }
   ],
   "source": [
    "print(\"Hallo\")"
   ]
  },
  {
   "cell_type": "markdown",
   "metadata": {},
   "source": [
    "With containers, the representation of the containers is obtained as it would also be assumed as programme code input, whereby the individual elements (both value data types or container data types) are in turn represented as a single element of the respective data type:"
   ]
  },
  {
   "cell_type": "code",
   "execution_count": 19,
   "metadata": {},
   "outputs": [
    {
     "name": "stdout",
     "output_type": "stream",
     "text": [
      "[]\n"
     ]
    }
   ],
   "source": [
    "print([])"
   ]
  },
  {
   "cell_type": "code",
   "execution_count": 20,
   "metadata": {},
   "outputs": [
    {
     "name": "stdout",
     "output_type": "stream",
     "text": [
      "['A', 2, 'B']\n"
     ]
    }
   ],
   "source": [
    "print([\"A\", 2, \"B\"])"
   ]
  },
  {
   "cell_type": "code",
   "execution_count": 21,
   "metadata": {},
   "outputs": [
    {
     "name": "stdout",
     "output_type": "stream",
     "text": [
      "{1, 2}\n"
     ]
    }
   ],
   "source": [
    "print (set([1,1,2]))"
   ]
  },
  {
   "cell_type": "code",
   "execution_count": 22,
   "metadata": {},
   "outputs": [
    {
     "name": "stdout",
     "output_type": "stream",
     "text": [
      "[['A', 'B'], [1, 2]]\n"
     ]
    }
   ],
   "source": [
    "print ([[\"A\", \"B\"], [1,2]])"
   ]
  },
  {
   "cell_type": "markdown",
   "metadata": {},
   "source": [
    "You can pass any number of (positional) arguments to the print function. These are output separated by spaces:"
   ]
  },
  {
   "cell_type": "code",
   "execution_count": 23,
   "metadata": {},
   "outputs": [
    {
     "name": "stdout",
     "output_type": "stream",
     "text": [
      "A 2\n"
     ]
    }
   ],
   "source": [
    "print(\"A\", 2)"
   ]
  },
  {
   "cell_type": "markdown",
   "metadata": {},
   "source": [
    "#### f-strings"
   ]
  },
  {
   "cell_type": "markdown",
   "metadata": {},
   "source": [
    "As you often want to output not only the content of an expression, but typically embed the output in other text, it is often helpful to have more influence on the display. One way to do this is to use f-strings, i.e. character strings that are prefixed with f before the inverted commas."
   ]
  },
  {
   "cell_type": "code",
   "execution_count": 24,
   "metadata": {},
   "outputs": [
    {
     "name": "stdout",
     "output_type": "stream",
     "text": [
      "Kinetic Energy: 42.4711 eV\n"
     ]
    }
   ],
   "source": [
    "kinetic_energy = 42.4711\n",
    "print(f\"Kinetic Energy: {kinetic_energy} eV\")"
   ]
  },
  {
   "cell_type": "markdown",
   "metadata": {},
   "source": [
    "The placeholder {kinetic_energy} was evaluated and replaced by the content (converted to a character string). Formally, this is equivalent to"
   ]
  },
  {
   "cell_type": "code",
   "execution_count": 25,
   "metadata": {},
   "outputs": [
    {
     "name": "stdout",
     "output_type": "stream",
     "text": [
      "Kinetic Energy: {42.4711} eV\n"
     ]
    }
   ],
   "source": [
    "kinetic_energy = 42.4711\n",
    "print(\"Kinetic Energy:\", {kinetic_energy}, \"eV\")"
   ]
  },
  {
   "cell_type": "markdown",
   "metadata": {},
   "source": [
    "However, the placeholder can also contain arithmetic operations:"
   ]
  },
  {
   "cell_type": "code",
   "execution_count": 26,
   "metadata": {},
   "outputs": [
    {
     "name": "stdout",
     "output_type": "stream",
     "text": [
      "kinetic_energy: 1.5607841267351117 a.u.\n"
     ]
    }
   ],
   "source": [
    "kinetic_energy = 42.4711\n",
    "hartree = 27.2113864259\n",
    "print (f\"kinetic_energy: {kinetic_energy/hartree} a.u.\")"
   ]
  },
  {
   "cell_type": "markdown",
   "metadata": {},
   "source": [
    "If the last character of the placeholder is an equals sign =, the name or expression and the value are output together:"
   ]
  },
  {
   "cell_type": "code",
   "execution_count": 30,
   "metadata": {},
   "outputs": [
    {
     "name": "stdout",
     "output_type": "stream",
     "text": [
      "kinetic_energy=42.4711 kinetic_energy/hartree= 1.5607841267351117\n"
     ]
    }
   ],
   "source": [
    "kinetic_energy = 42.4711\n",
    "hartree = 27.2113864259\n",
    "print (f\"{kinetic_energy=} {kinetic_energy/hartree= }\")"
   ]
  },
  {
   "cell_type": "markdown",
   "metadata": {},
   "source": [
    "In addition to this syntactic simplification, f-strings allow more influence on the concrete representation, which often improves the readability of the output. For this purpose, a second optional section containing format instructions is inserted in the placeholder {expression:format} with the colon :.\n",
    "\n",
    "A fixed width can initially be defined for the output:"
   ]
  },
  {
   "cell_type": "code",
   "execution_count": 34,
   "metadata": {},
   "outputs": [
    {
     "name": "stdout",
     "output_type": "stream",
     "text": [
      "| Alessandro           | Binomi               |\n",
      "| Julius               | Eigen      |\n"
     ]
    }
   ],
   "source": [
    "first_name = \"Alessandro\"\n",
    "last_name = \"Binomi\"\n",
    "print (f\"| {first_name:20} | {last_name:20} |\")\n",
    "first_name = \"Julius\"\n",
    "last_name = \"Eigen\"\n",
    "print (f\"| {first_name:20} | {last_name:10} |\")"
   ]
  },
  {
   "cell_type": "markdown",
   "metadata": {},
   "source": [
    "Now the output can be aligned (note the greater than symbol > and caret ^)"
   ]
  },
  {
   "cell_type": "code",
   "execution_count": 36,
   "metadata": {},
   "outputs": [
    {
     "name": "stdout",
     "output_type": "stream",
     "text": [
      "|           Alessandro |        Binomi        |\n",
      "|               Julius |        Eigen         |\n"
     ]
    }
   ],
   "source": [
    "first_name = \"Alessandro\"\n",
    "last_name = \"Binomi\"\n",
    "print (f\"| {first_name:>20} | {last_name:^20} |\")\n",
    "first_name = \"Julius\"\n",
    "last_name = \"Eigen\"\n",
    "print (f\"| {first_name:>20} | {last_name:^20} |\")"
   ]
  },
  {
   "cell_type": "markdown",
   "metadata": {},
   "source": [
    "For integers and decimals, the display is automatically right-aligned if more space is given:"
   ]
  },
  {
   "cell_type": "code",
   "execution_count": 37,
   "metadata": {},
   "outputs": [
    {
     "name": "stdout",
     "output_type": "stream",
     "text": [
      "|    42.4711|\n"
     ]
    }
   ],
   "source": [
    "kinetic_energy = 42.4711\n",
    "print(f\"| {kinetic_energy:10}|\")"
   ]
  },
  {
   "cell_type": "markdown",
   "metadata": {},
   "source": [
    "The number of decimal places can be specified after the width of the field, separated by a dot. In this case, however, it must be made clear whether the scientific notation (suffix e) or decimal notation (suffix f) is required:"
   ]
  },
  {
   "cell_type": "code",
   "execution_count": 41,
   "metadata": {},
   "outputs": [
    {
     "name": "stdout",
     "output_type": "stream",
     "text": [
      "|  4.25e+01|\n",
      "|     42.47|\n"
     ]
    }
   ],
   "source": [
    "kinetic_energy = 42.4711\n",
    "print(f\"|{kinetic_energy:10.2e}|\")\n",
    "print(f\"|{kinetic_energy:10.2f}|\")"
   ]
  },
  {
   "cell_type": "markdown",
   "metadata": {},
   "source": [
    "#### Comparisons"
   ]
  },
  {
   "cell_type": "markdown",
   "metadata": {},
   "source": [
    "A frequent source of confusion for new programmers is the comparison of variable contents. The contents are assigned with = (a single equals sign), while a comparison is made with == (two equals signs) - unlike in maths. "
   ]
  },
  {
   "cell_type": "code",
   "execution_count": 42,
   "metadata": {},
   "outputs": [
    {
     "data": {
      "text/plain": [
       "True"
      ]
     },
     "execution_count": 42,
     "metadata": {},
     "output_type": "execute_result"
    }
   ],
   "source": [
    "a = 5\n",
    "b = 10-5\n",
    "a == b"
   ]
  },
  {
   "cell_type": "markdown",
   "metadata": {},
   "source": [
    "For number types, the comparison operators correspond to the usual understanding:"
   ]
  },
  {
   "cell_type": "markdown",
   "metadata": {},
   "source": [
    "| Operator | Meaning                    | Example for True | Example for False |\n",
    "|----------|----------------------------|------------------|-------------------|\n",
    "| `==`     | Equal                      | `5 == 5`         | `5 == 6`          |\n",
    "| `!=`     | Unequal                    | `5 != 6`         | `5 != 5`          |\n",
    "| `<`      | Less than                  | `5 < 6`          | `5 < 5`           |\n",
    "| `>`      | Greater than               | `6 > 5`          | `5 > 5`           |\n",
    "| `<=`     | Less than or equal to      | `5 <= 5`         | `6 <= 5`          |\n",
    "| `>=`     | Greater than or equal to   | `5 >= 5`         | `5 >= 6`          |\n"
   ]
  },
  {
   "cell_type": "code",
   "execution_count": 45,
   "metadata": {},
   "outputs": [],
   "source": [
    "a = 5\n",
    "b = 7"
   ]
  },
  {
   "cell_type": "code",
   "execution_count": 46,
   "metadata": {},
   "outputs": [
    {
     "data": {
      "text/plain": [
       "True"
      ]
     },
     "execution_count": 46,
     "metadata": {},
     "output_type": "execute_result"
    }
   ],
   "source": [
    "a < b"
   ]
  },
  {
   "cell_type": "code",
   "execution_count": 47,
   "metadata": {},
   "outputs": [
    {
     "data": {
      "text/plain": [
       "True"
      ]
     },
     "execution_count": 47,
     "metadata": {},
     "output_type": "execute_result"
    }
   ],
   "source": [
    "a != b"
   ]
  },
  {
   "cell_type": "code",
   "execution_count": 48,
   "metadata": {},
   "outputs": [
    {
     "data": {
      "text/plain": [
       "False"
      ]
     },
     "execution_count": 48,
     "metadata": {},
     "output_type": "execute_result"
    }
   ],
   "source": [
    "a >= b"
   ]
  },
  {
   "cell_type": "markdown",
   "metadata": {},
   "source": [
    "For strings, the comparison is made lexicographically, i.e. in the order of the alphabet. "
   ]
  },
  {
   "cell_type": "markdown",
   "metadata": {},
   "source": [
    "| Operator | Meaning                              | Example for true         | Example for false        |\n",
    "|----------|--------------------------------------|--------------------------|--------------------------|\n",
    "| `==`     | All characters equal                 | `\"Hello\" == \"Hello\"`      | `\"Hello\" == \"hello\"`      |\n",
    "| `!=`     | At least one character different     | `\"hello\" != \"hello\"`      | `\"hello\" != \"hello\"`      |\n",
    "| `<`      | Lexicographically smaller than       | `\"apple\" < \"banana\"`      | `\"banana\" < \"apple\"`      |\n",
    "| `>`      | Lexicographically greater than       | `\"banana\" > \"apple\"`      | `\"apple\" > \"banana\"`      |\n",
    "| `<=`     | Lexicographically less than or equal to | `\"apple\" <= \"apple\"`      | `\"banana\" <= \"apple\"`     |\n",
    "| `>=`     | Lexicographically greater than or equal to | `\"apple\" >= \"apple\"`      | `\"apple\" >= \"banana\"`     |\n"
   ]
  },
  {
   "cell_type": "markdown",
   "metadata": {},
   "source": [
    "Please note that capital letters are entered first:"
   ]
  },
  {
   "cell_type": "code",
   "execution_count": 49,
   "metadata": {},
   "outputs": [
    {
     "data": {
      "text/plain": [
       "True"
      ]
     },
     "execution_count": 49,
     "metadata": {},
     "output_type": "execute_result"
    }
   ],
   "source": [
    "\"Apple\" < \"apple\""
   ]
  },
  {
   "cell_type": "markdown",
   "metadata": {},
   "source": [
    "If a string begins with another, the shorter one is sorted first. However, the length is only considered secondarily:"
   ]
  },
  {
   "cell_type": "code",
   "execution_count": 50,
   "metadata": {},
   "outputs": [
    {
     "data": {
      "text/plain": [
       "True"
      ]
     },
     "execution_count": 50,
     "metadata": {},
     "output_type": "execute_result"
    }
   ],
   "source": [
    "\"Foot\" < \"Football\""
   ]
  },
  {
   "cell_type": "code",
   "execution_count": 51,
   "metadata": {},
   "outputs": [
    {
     "data": {
      "text/plain": [
       "True"
      ]
     },
     "execution_count": 51,
     "metadata": {},
     "output_type": "execute_result"
    }
   ],
   "source": [
    "\"Food\" < \"Foot\""
   ]
  },
  {
   "cell_type": "markdown",
   "metadata": {},
   "source": [
    "In general, alphabetical sorting of strings has a lot of pitfalls and is therefore not dealt with further here."
   ]
  },
  {
   "cell_type": "markdown",
   "metadata": {},
   "source": [
    "#### Identity comparison"
   ]
  },
  {
   "cell_type": "markdown",
   "metadata": {},
   "source": [
    "Now it gets a little more complicated. The identity comparison (operator is) checks whether two variables point to the same object in the memory. This is not the same as the value comparison (which is carried out with ==). This comparison is mainly relevant for objects and should not be used for numbers and character strings:"
   ]
  },
  {
   "cell_type": "code",
   "execution_count": 52,
   "metadata": {},
   "outputs": [],
   "source": [
    "a = 5\n",
    "b = 5"
   ]
  },
  {
   "cell_type": "code",
   "execution_count": 53,
   "metadata": {},
   "outputs": [
    {
     "data": {
      "text/plain": [
       "True"
      ]
     },
     "execution_count": 53,
     "metadata": {},
     "output_type": "execute_result"
    }
   ],
   "source": [
    "a == b"
   ]
  },
  {
   "cell_type": "code",
   "execution_count": 54,
   "metadata": {},
   "outputs": [
    {
     "data": {
      "text/plain": [
       "True"
      ]
     },
     "execution_count": 54,
     "metadata": {},
     "output_type": "execute_result"
    }
   ],
   "source": [
    "a is b"
   ]
  },
  {
   "cell_type": "code",
   "execution_count": 55,
   "metadata": {},
   "outputs": [],
   "source": [
    "a = 5**4\n",
    "b = 5**4"
   ]
  },
  {
   "cell_type": "code",
   "execution_count": 56,
   "metadata": {},
   "outputs": [
    {
     "data": {
      "text/plain": [
       "True"
      ]
     },
     "execution_count": 56,
     "metadata": {},
     "output_type": "execute_result"
    }
   ],
   "source": [
    "a == b"
   ]
  },
  {
   "cell_type": "code",
   "execution_count": 57,
   "metadata": {},
   "outputs": [
    {
     "data": {
      "text/plain": [
       "False"
      ]
     },
     "execution_count": 57,
     "metadata": {},
     "output_type": "execute_result"
    }
   ],
   "source": [
    "a is b"
   ]
  },
  {
   "cell_type": "markdown",
   "metadata": {},
   "source": [
    "At first glance, the two numbers look the same, but they are not the same object in memory. This is because Python always uses the same object in memory for small numbers (between -5 and 256). Therefore, an identity comparison for numbers does not make sense."
   ]
  }
 ],
 "metadata": {
  "kernelspec": {
   "display_name": "Python 3",
   "language": "python",
   "name": "python3"
  },
  "language_info": {
   "codemirror_mode": {
    "name": "ipython",
    "version": 3
   },
   "file_extension": ".py",
   "mimetype": "text/x-python",
   "name": "python",
   "nbconvert_exporter": "python",
   "pygments_lexer": "ipython3",
   "version": "3.12.4"
  }
 },
 "nbformat": 4,
 "nbformat_minor": 2
}
